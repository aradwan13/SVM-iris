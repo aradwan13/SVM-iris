{
  "nbformat": 4,
  "nbformat_minor": 0,
  "metadata": {
    "colab": {
      "private_outputs": true,
      "provenance": []
    },
    "kernelspec": {
      "name": "python3",
      "display_name": "Python 3"
    },
    "language_info": {
      "name": "python"
    },
    "accelerator": "GPU"
  },
  "cells": [
    {
      "cell_type": "markdown",
      "source": [
        "**Importing Modules**"
      ],
      "metadata": {
        "id": "V64a72LU0njA"
      }
    },
    {
      "cell_type": "code",
      "execution_count": null,
      "metadata": {
        "id": "BAWxVTJpc6UP"
      },
      "outputs": [],
      "source": [
        "import numpy as np\n",
        "import pandas as pd\n",
        "import matplotlib.pyplot as plt\n",
        "import seaborn as sns "
      ]
    },
    {
      "cell_type": "code",
      "source": [
        "%matplotlib inline \n"
      ],
      "metadata": {
        "id": "jYB5Xp8vc97t"
      },
      "execution_count": null,
      "outputs": []
    },
    {
      "cell_type": "code",
      "source": [
        "import warnings\n",
        "\n",
        "warnings.filterwarnings('ignore')"
      ],
      "metadata": {
        "id": "fCtqxidyc_v6"
      },
      "execution_count": null,
      "outputs": []
    },
    {
      "cell_type": "code",
      "source": [
        "plt.rcParams[\"figure.figsize\"] = (15,8)\n",
        "\n",
        "background_color = \"#F2F2F2\"\n",
        "color_palette = [\"#7456A3\",\"#08BEDF\",\"#008DC3\"]\n",
        "sns.set_style(\"whitegrid\" )\n",
        "sns.set_theme(style=\"ticks\")\n",
        "sns.set_palette(color_palette)"
      ],
      "metadata": {
        "id": "2RmpyvcydBnU"
      },
      "execution_count": null,
      "outputs": []
    },
    {
      "cell_type": "markdown",
      "source": [
        "**Loading data**"
      ],
      "metadata": {
        "id": "gr5iGKPI00BL"
      }
    },
    {
      "cell_type": "code",
      "source": [
        "from sklearn.datasets import load_iris\n",
        "iris = load_iris()"
      ],
      "metadata": {
        "id": "4bFwT18gdMlh"
      },
      "execution_count": null,
      "outputs": []
    },
    {
      "cell_type": "code",
      "source": [
        "print(iris['DESCR'])"
      ],
      "metadata": {
        "id": "Z3mGIHp2dZos"
      },
      "execution_count": null,
      "outputs": []
    },
    {
      "cell_type": "code",
      "source": [
        "print(iris['data'])"
      ],
      "metadata": {
        "id": "hETJIs0Odd9K"
      },
      "execution_count": null,
      "outputs": []
    },
    {
      "cell_type": "code",
      "source": [
        "print(iris['feature_names'])"
      ],
      "metadata": {
        "id": "kVNjgtcKdidC"
      },
      "execution_count": null,
      "outputs": []
    },
    {
      "cell_type": "code",
      "source": [
        "iris['data'].shape"
      ],
      "metadata": {
        "id": "sj-dpIXMdlCs"
      },
      "execution_count": null,
      "outputs": []
    },
    {
      "cell_type": "code",
      "source": [
        "print(iris['target_names'])"
      ],
      "metadata": {
        "id": "4w47eS2EdoKn"
      },
      "execution_count": null,
      "outputs": []
    },
    {
      "cell_type": "code",
      "source": [
        "print(iris['target'])"
      ],
      "metadata": {
        "id": "1Byd6Q_7drB3"
      },
      "execution_count": null,
      "outputs": []
    },
    {
      "cell_type": "code",
      "source": [
        "df_iris = pd.DataFrame(np.c_[iris['data'], iris['target']], columns = np.append(iris['feature_names'], ['target']))\n",
        "df_iris.head()"
      ],
      "metadata": {
        "id": "1u4v42iDdtqr"
      },
      "execution_count": null,
      "outputs": []
    },
    {
      "cell_type": "markdown",
      "source": [
        "**Data Exploraion**"
      ],
      "metadata": {
        "id": "ZyzBMEgB1CS5"
      }
    },
    {
      "cell_type": "code",
      "source": [
        "df_iris.info()"
      ],
      "metadata": {
        "id": "M0B89fvz1KuI"
      },
      "execution_count": null,
      "outputs": []
    },
    {
      "cell_type": "code",
      "source": [
        "sns.countplot(df_iris['target'], label = \"Count\")"
      ],
      "metadata": {
        "id": "cDh5lNmbd7QE"
      },
      "execution_count": null,
      "outputs": []
    },
    {
      "cell_type": "code",
      "source": [
        "mask = np.zeros_like(df_iris.corr())\n",
        "mask[np.triu_indices_from(mask)] = True"
      ],
      "metadata": {
        "id": "01BlojjAtq7F"
      },
      "execution_count": null,
      "outputs": []
    },
    {
      "cell_type": "code",
      "source": [
        "sns.heatmap(df_iris.corr(), annot=True,linewidth=1, linecolor='w', square=True,mask=mask) \n",
        "plt.title('Cprrelation between the feature')"
      ],
      "metadata": {
        "id": "Jy8S_0rTeE6K"
      },
      "execution_count": null,
      "outputs": []
    },
    {
      "cell_type": "code",
      "source": [
        "sns.pairplot(df_iris, hue = 'target', vars = ['sepal length (cm)', 'sepal width (cm)', 'petal length (cm)', 'petal width (cm)'])"
      ],
      "metadata": {
        "id": "u84M6O0gnTAJ"
      },
      "execution_count": null,
      "outputs": []
    },
    {
      "cell_type": "markdown",
      "source": [
        "**Data Extraction**"
      ],
      "metadata": {
        "id": "_miGrPSw1gX7"
      }
    },
    {
      "cell_type": "code",
      "source": [
        "X = df_iris.iloc[:,:-1].values\n",
        "X"
      ],
      "metadata": {
        "id": "w7zHM9vbejU6"
      },
      "execution_count": null,
      "outputs": []
    },
    {
      "cell_type": "code",
      "source": [
        "y = df_iris.iloc[:,-1].values\n",
        "y"
      ],
      "metadata": {
        "id": "saIaSuofkCd7"
      },
      "execution_count": null,
      "outputs": []
    },
    {
      "cell_type": "markdown",
      "source": [
        "**Split Dataset**"
      ],
      "metadata": {
        "id": "rxX3nR5b1k96"
      }
    },
    {
      "cell_type": "code",
      "source": [
        "from sklearn.model_selection import train_test_split"
      ],
      "metadata": {
        "id": "6b9p5D8vkHwv"
      },
      "execution_count": null,
      "outputs": []
    },
    {
      "cell_type": "code",
      "source": [
        " X_train, X_test, y_train, y_test = train_test_split(X, y, test_size=0.2, random_state=42)"
      ],
      "metadata": {
        "id": "WkvcADqDkOsL"
      },
      "execution_count": null,
      "outputs": []
    },
    {
      "cell_type": "markdown",
      "source": [
        "**Model buliding & Trainig**"
      ],
      "metadata": {
        "id": "qvD-OxsV1y_Z"
      }
    },
    {
      "cell_type": "code",
      "source": [
        "from sklearn.svm import SVC "
      ],
      "metadata": {
        "id": "VXNPRUUskRts"
      },
      "execution_count": null,
      "outputs": []
    },
    {
      "cell_type": "code",
      "source": [
        "clf = SVC(C=12.0, kernel='poly', gamma=8)"
      ],
      "metadata": {
        "id": "rediLbNEkVPc"
      },
      "execution_count": null,
      "outputs": []
    },
    {
      "cell_type": "code",
      "source": [
        "clf.fit(X_train,y_train)"
      ],
      "metadata": {
        "id": "RyL8EPivkXLg"
      },
      "execution_count": null,
      "outputs": []
    },
    {
      "cell_type": "code",
      "source": [
        "y_pred = clf.predict(X_test)\n",
        "y_pred"
      ],
      "metadata": {
        "id": "sClllOx2kZQl"
      },
      "execution_count": null,
      "outputs": []
    },
    {
      "cell_type": "code",
      "source": [
        "y_test"
      ],
      "metadata": {
        "id": "wXeCsvSpoITo"
      },
      "execution_count": null,
      "outputs": []
    },
    {
      "cell_type": "markdown",
      "source": [
        "**Evaluation Model**"
      ],
      "metadata": {
        "id": "m9Guo4Se3da-"
      }
    },
    {
      "cell_type": "code",
      "source": [
        "from sklearn.metrics import accuracy_score,confusion_matrix,classification_report"
      ],
      "metadata": {
        "id": "2E0Nr5puoK3y"
      },
      "execution_count": null,
      "outputs": []
    },
    {
      "cell_type": "code",
      "source": [
        "acc= accuracy_score(y_test,y_pred)\n",
        "cm = confusion_matrix(y_test,y_pred)\n",
        "clr = classification_report(y_test,y_pred)"
      ],
      "metadata": {
        "id": "iMQCLwBqoQ_j"
      },
      "execution_count": null,
      "outputs": []
    },
    {
      "cell_type": "code",
      "source": [
        "print('accuracy_score is ',acc)"
      ],
      "metadata": {
        "id": "i_72Ug8RofvK"
      },
      "execution_count": null,
      "outputs": []
    },
    {
      "cell_type": "code",
      "source": [
        "print('confusion_matrix is ','\\n',cm)"
      ],
      "metadata": {
        "id": "iwlsrrJcok3a"
      },
      "execution_count": null,
      "outputs": []
    },
    {
      "cell_type": "code",
      "source": [
        "sns.heatmap(cm, annot=True,linewidth=1, linecolor='w', square=True,fmt=\"d\")"
      ],
      "metadata": {
        "id": "nE5VLbyqpJJL"
      },
      "execution_count": null,
      "outputs": []
    },
    {
      "cell_type": "code",
      "source": [
        "print('classification report is ','\\n',clr)"
      ],
      "metadata": {
        "id": "bXCsRP_gon_B"
      },
      "execution_count": null,
      "outputs": []
    },
    {
      "cell_type": "markdown",
      "source": [
        "**Testing New Data**"
      ],
      "metadata": {
        "id": "T96J8lN_159t"
      }
    },
    {
      "cell_type": "code",
      "source": [
        "new_data = [[5.9, 3.0, 5.7, 1.5], [4.8, 2.9, 3.5, 4.2]]"
      ],
      "metadata": {
        "id": "iQnPpFsvozv1"
      },
      "execution_count": null,
      "outputs": []
    },
    {
      "cell_type": "code",
      "source": [
        "y_pred_new = clf.predict(new_data)\n",
        "y_pred_new"
      ],
      "metadata": {
        "id": "6CzUrBwnzpWH"
      },
      "execution_count": null,
      "outputs": []
    },
    {
      "cell_type": "code",
      "source": [],
      "metadata": {
        "id": "0UquPlzVmiaG"
      },
      "execution_count": null,
      "outputs": []
    }
  ]
}